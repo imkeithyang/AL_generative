{
 "cells": [
  {
   "cell_type": "code",
   "execution_count": 1,
   "metadata": {},
   "outputs": [],
   "source": [
    "import numpy as np\n",
    "import math\n",
    "import matplotlib.pyplot as plt"
   ]
  },
  {
   "cell_type": "code",
   "execution_count": 2,
   "metadata": {},
   "outputs": [],
   "source": [
    "'''\n",
    "#matlab engine\n",
    "import matlab.engine\n",
    "eng = matlab.engine.start_matlab()\n",
    "'''"
   ]
  },
  {
   "cell_type": "code",
   "execution_count": 2,
   "metadata": {},
   "outputs": [],
   "source": [
    "from mpmath import nsum, exp, inf,fac\n",
    "import math"
   ]
  },
  {
   "cell_type": "code",
   "execution_count": 5,
   "metadata": {},
   "outputs": [],
   "source": [
    "import copy"
   ]
  },
  {
   "cell_type": "code",
   "execution_count": 3,
   "metadata": {},
   "outputs": [],
   "source": [
    "#Poisson Surprise Function\n",
    "def poissonSurprise(num,meanFiringRate,interval):\n",
    "    P = exp(-meanFiringRate*interval)*nsum(lambda i:(meanFiringRate*interval)**i/fac(i),[num,inf])\n",
    "    S = -math.log(P,10)\n",
    "    return S\n"
   ]
  },
  {
   "cell_type": "code",
   "execution_count": 4,
   "metadata": {},
   "outputs": [],
   "source": [
    "def getSurprise(end,start,meanFire,timestamps):\n",
    "    return poissonSurprise(end-start,meanFire,timestamps[end]-timestamps[start])\n",
    "\n",
    "\n",
    "getSurprises = np.vectorize(getSurprise)\n",
    "\n",
    "\n",
    "def getBursts(end,start,meanFire,timestamps,crop = False):\n",
    "    #arr numpy array\n",
    "    if crop:\n",
    "        #crop bursts\n",
    "        surprises = getSurprises(end,np.arange(start,end-1),meanFire,timestamps)\n",
    "        optimalStart = np.argmax(surprises) + start\n",
    "        return optimalStart,end\n",
    "    else:\n",
    "        #get potential bursts\n",
    "        surprises = getSurprises(np.arange(start+2,end+1),start,meanFire,timestamps)\n",
    "        optimalEnd = np.argmax(surprises) + start + 2\n",
    "        return start,optimalEnd\n",
    "\n",
    "    "
   ]
  },
  {
   "cell_type": "code",
   "execution_count": null,
   "metadata": {},
   "outputs": [],
   "source": [
    "def potentialBurstIndex(intervals,meanISI):\n",
    "    #return a list of start/end pairs implying a consecutive series of intervals less than meanISI\n",
    "    #also return a list of indices in each series where intervals are less than 0.5*meanISI\n",
    "    processList = []\n",
    "    process05List = []\n",
    "    length = len(intervals)\n",
    "    for i in range(1,length-1):\n",
    "        if intervals[i] < 0.5*meanISI and intervals[i+1] < meanISI:\n",
    "            process05Temp = [i]\n",
    "            for j in range(i+2,length):\n",
    "                if intervals[j] >= meanISI:\n",
    "                    break\n",
    "                elif intervals[j] < 0.5*meanISI:\n",
    "                    process05Temp.append(j)\n",
    "                    \n",
    "            #return timestamp indices\n",
    "            processList.appen((i,j))\n",
    "            process05List.append(process05Temp)\n",
    "\n",
    "    return processList,process05List"
   ]
  },
  {
   "cell_type": "code",
   "execution_count": null,
   "metadata": {},
   "outputs": [],
   "source": []
  },
  {
   "cell_type": "code",
   "execution_count": 34,
   "metadata": {},
   "outputs": [],
   "source": [
    "def potentialBursts(timeStamps,maxNumBurstSpikes):\n",
    "    #numSpikes considered as an np multidimensional array\n",
    "    numSpikes = timeStamps.shape[0] - 1\n",
    "    #return last row value of timeStamps\n",
    "    totalTime = timeStamps[numSpikes]\n",
    "\n",
    "    #interval values by discrete difference function\n",
    "    intervals = np.diff(timeStamps,n=1,axis = 0)\n",
    "    #mean firing rate\n",
    "    meanFreq = numSpikes/totalTime\n",
    "    #mean interspike intervals\n",
    "    meanISI = 1/meanFreq\n",
    "\n",
    "    burstRanges,burstSurprises = [],[]\n",
    "    #Find potential bursts:\n",
    "    # 1. Check for two consecutive ISI < 0.5*mean_ISI\n",
    "    # 2. Include consecutive spikes until ISI > mean_ISI\n",
    "    # 3. Compute surprise for each new inclusion\n",
    "    # 4. Retain the spike train that has the maximum surprise\n",
    "\n",
    "    i = 1\n",
    "    while i < numSpikes - 1:\n",
    "        burstEndIndex = i+2\n",
    "        if intervals[i] < 0.5*meanISI and intervals[i+1] < meanISI:\n",
    "\n",
    "            period = intervals[i] + intervals[i+1]\n",
    "\n",
    "            number = 2\n",
    "            surprise = poissonSurprise(number,meanFreq,period)\n",
    "            \n",
    "            maxSurprise = surprise\n",
    "            '''\n",
    "            if surprise >= maxSurprise:\n",
    "                burstEndIndex = i + 1\n",
    "                maxSurprise = surprise\n",
    "            '''\n",
    "            \n",
    "            j = i + 2\n",
    "\n",
    "            while j <= numSpikes-1 and intervals[j] <= meanISI and number <= maxNumBurstSpikes:\n",
    "                period += intervals[j]\n",
    "                number += 1\n",
    "                surprise = poissonSurprise(number,meanFreq,period)\n",
    "\n",
    "                if surprise >= maxSurprise:\n",
    "                    burstEndIndex = j \n",
    "                    maxSurprise = surprise\n",
    "\n",
    "                j += 1\n",
    "            \n",
    "            burstRanges.append([i,burstEndIndex])\n",
    "            burstSurprises.append(maxSurprise)\n",
    "        \n",
    "        i = burstEndIndex + 1\n",
    "    \n",
    "    return burstRanges,burstSurprises,intervals,totalTime,meanFreq,numSpikes\n",
    "\n",
    "                "
   ]
  },
  {
   "cell_type": "code",
   "execution_count": 35,
   "metadata": {},
   "outputs": [],
   "source": [
    "#Maximize surprise within the detected bursts by cropping spikes at the beginning\n",
    "def cropBursts(burstRanges,burstSurprises,intervals,meanFreq):\n",
    "    cropBurstRanges,cropBurstSurprises = [],[]\n",
    "    numBursts = len(burstRanges)\n",
    "    for i in range(numBursts):\n",
    "        surprise = burstSurprises[i]\n",
    "        maxSurprise = surprise\n",
    "        cropStartIndex = burstRanges[i][0]\n",
    "\n",
    "        startIndex = burstRanges[i][0] + 1\n",
    "        endIndex = burstRanges[i][1]\n",
    "\n",
    "        while startIndex < endIndex:\n",
    "            period = sum(intervals[startIndex+1:endIndex+1])\n",
    "            number = endIndex - startIndex\n",
    "            surprise = poissonSurprise(number,meanFreq,period)\n",
    "\n",
    "            if surprise >= maxSurprise:\n",
    "                cropStartIndex = startIndex\n",
    "                maxSurprise = surprise\n",
    "\n",
    "            startIndex += 1\n",
    "        \n",
    "        cropBurstRanges.append([cropStartIndex,endIndex])\n",
    "        cropBurstSurprises.append(maxSurprise)\n",
    "    \n",
    "    cropNumBursts = len(cropBurstRanges)\n",
    "\n",
    "    return cropBurstRanges,cropBurstSurprises,cropNumBursts"
   ]
  },
  {
   "cell_type": "code",
   "execution_count": 36,
   "metadata": {},
   "outputs": [],
   "source": [
    "#Retain bursts with at least 3 spikes in them.\n",
    "def finalBursts(cropBurstRanges,cropBurstSurprises,cropNumBursts,minSurprise,numSpikes):   \n",
    "    #create vector of zeros with same row number as timeStamps (neglecting first row as it's always zero as reference)\n",
    "    burstIndicator = np.zeros(numSpikes,1)\n",
    "    finalBurstRanges,finalBurstSurprises = [],[]\n",
    "    for i in range(cropNumBursts):\n",
    "        numBurstSpikes = cropBurstRanges[i][1] - cropBurstRanges[i][0] + 1\n",
    "        surprise = cropBurstSurprises[i]\n",
    "        if numBurstSpikes >= 3 and surprise >= minSurprise:\n",
    "            finalBurstRanges.append(cropBurstRanges[i])\n",
    "            finalBurstSurprises.append(cropBurstSurprises[i])\n",
    "\n",
    "            burstIndicator[cropBurstRanges[i][0]:cropBurstRanges[i][1]] = 1\n",
    "    \n",
    "    finalNumBursts = len(finalBurstRanges)\n",
    "\n",
    "    return burstIndicator,finalBurstRanges,finalBurstSurprises,finalNumBursts"
   ]
  },
  {
   "cell_type": "code",
   "execution_count": 37,
   "metadata": {},
   "outputs": [],
   "source": [
    "def detectBursts(timeStamps,minSurprise,maxNumBurstSpikes):\n",
    "    burstRanges,burstSurprises,intervals,totalTime,meanFreq,numSpikes = potentialBursts(timeStamps,maxNumBurstSpikes)\n",
    "\n",
    "    cropBurstRanges,cropBurstSurprises,cropNumBursts = cropBursts(burstRanges,burstSurprises,intervals,meanFreq)\n",
    "    \n",
    "    burstIndicator,finalBurstRanges,finalBurstSurprises,finalNumBursts =\\\n",
    "          finalBursts(cropBurstRanges,cropBurstSurprises,cropNumBursts,minSurprise,numSpikes)\n",
    "    \n",
    "    return burstIndicator,finalNumBursts,finalBurstRanges,finalBurstSurprises,totalTime"
   ]
  },
  {
   "cell_type": "code",
   "execution_count": 38,
   "metadata": {},
   "outputs": [
    {
     "data": {
      "text/plain": [
       "'\\n#quit Matlab engine\\neng.quit()\\n'"
      ]
     },
     "execution_count": 38,
     "metadata": {},
     "output_type": "execute_result"
    }
   ],
   "source": [
    "'''\n",
    "#quit Matlab engine\n",
    "eng.quit()\n",
    "'''"
   ]
  }
 ],
 "metadata": {
  "kernelspec": {
   "display_name": "base",
   "language": "python",
   "name": "python3"
  },
  "language_info": {
   "codemirror_mode": {
    "name": "ipython",
    "version": 3
   },
   "file_extension": ".py",
   "mimetype": "text/x-python",
   "name": "python",
   "nbconvert_exporter": "python",
   "pygments_lexer": "ipython3",
   "version": "3.9.13"
  },
  "orig_nbformat": 4
 },
 "nbformat": 4,
 "nbformat_minor": 2
}
