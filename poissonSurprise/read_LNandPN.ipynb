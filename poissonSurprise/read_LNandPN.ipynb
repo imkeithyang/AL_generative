{
 "cells": [
  {
   "cell_type": "code",
   "execution_count": 1,
   "metadata": {},
   "outputs": [],
   "source": [
    "import numpy as np\n",
    "import pandas as pd\n",
    "import matplotlib.pyplot as plt\n",
    "import seaborn as sns\n",
    "import os\n",
    "import sys\n",
    "import glob\n",
    "import pickle"
   ]
  },
  {
   "cell_type": "code",
   "execution_count": 2,
   "metadata": {},
   "outputs": [],
   "source": [
    "#load txt LNandPN file\n",
    "\n",
    "load_txt = np.loadtxt('LNandPN.txt', dtype = str, delimiter = '\\t')"
   ]
  },
  {
   "cell_type": "code",
   "execution_count": 3,
   "metadata": {},
   "outputs": [],
   "source": [
    "mothnames = load_txt[0]\n",
    "\n",
    "timestamps_arr = load_txt[1:].T\n",
    "timestampslst = []\n",
    "for timestamps in timestamps_arr:\n",
    "    #remove empty strings and convert to float\n",
    "    timestamps = timestamps[timestamps != ' ']\n",
    "    timestamps = timestamps.astype(float)\n",
    "    timestampslst.append(timestamps)\n"
   ]
  },
  {
   "cell_type": "code",
   "execution_count": 4,
   "metadata": {},
   "outputs": [],
   "source": [
    "#attach each element of timestamplst to each mothname, create a dataframe for this\n",
    "df = pd.DataFrame({'mothname': mothnames[1:], 'timestamps': timestampslst[1:]})\n",
    "\n",
    "#judge the class of each moth according to whether 'LN' or 'PN' is inside the name\n",
    "df['label'] = df['mothname'].apply(lambda x: 'LN' if 'LN' in x else 'PN')"
   ]
  },
  {
   "cell_type": "code",
   "execution_count": 5,
   "metadata": {},
   "outputs": [],
   "source": [
    "df['label'] = df['label'].replace(['PN','LN','MGC-PN'],[1,0,2])"
   ]
  },
  {
   "cell_type": "code",
   "execution_count": 6,
   "metadata": {},
   "outputs": [
    {
     "data": {
      "text/plain": [
       "label\n",
       "1    51\n",
       "0    19\n",
       "Name: count, dtype: int64"
      ]
     },
     "execution_count": 6,
     "metadata": {},
     "output_type": "execute_result"
    }
   ],
   "source": [
    "#display LN number of df\n",
    "df['label'].value_counts()"
   ]
  },
  {
   "cell_type": "code",
   "execution_count": 7,
   "metadata": {},
   "outputs": [],
   "source": [
    "#pickle the dataframe \n",
    "with open('LNandPN.pkl', 'wb') as f:\n",
    "    pickle.dump(df, f)"
   ]
  }
 ],
 "metadata": {
  "kernelspec": {
   "display_name": "base",
   "language": "python",
   "name": "python3"
  },
  "language_info": {
   "codemirror_mode": {
    "name": "ipython",
    "version": 3
   },
   "file_extension": ".py",
   "mimetype": "text/x-python",
   "name": "python",
   "nbconvert_exporter": "python",
   "pygments_lexer": "ipython3",
   "version": "3.11.1"
  }
 },
 "nbformat": 4,
 "nbformat_minor": 2
}
