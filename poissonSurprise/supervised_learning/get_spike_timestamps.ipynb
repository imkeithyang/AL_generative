{
 "cells": [
  {
   "cell_type": "code",
   "execution_count": 23,
   "metadata": {},
   "outputs": [],
   "source": [
    "import os\n",
    "import numpy as np\n",
    "import pandas as pd\n",
    "import matplotlib.pyplot as plt\n",
    "import seaborn as sns\n",
    "from scipy.signal import find_peaks\n",
    "import glob\n",
    "import warnings\n",
    "warnings.filterwarnings('ignore')"
   ]
  },
  {
   "cell_type": "code",
   "execution_count": 95,
   "metadata": {},
   "outputs": [],
   "source": [
    "def load_and_find_spikes(path):\n",
    "\n",
    "    if \"PNs\" in path:\n",
    "        label = \"PN\"\n",
    "    else:\n",
    "        label = \"LN\"\n",
    "\n",
    "    cur_df = pd.read_csv(path, sep='     ',header=None,skiprows=12,usecols=[1,2])\n",
    "    #print(path[-13:-4])\n",
    "    \n",
    "    #find spikes with find_peak\n",
    "    timestamp_indices, _ = find_peaks(cur_df.iloc[:,1],height = 0)\n",
    "    #print(timestamp_indices)\n",
    "    timestamps = np.array(cur_df.iloc[timestamp_indices,0])\n",
    "    #print(timestamps)\n",
    "\n",
    "    #print(path[-13:-4],label,timestamps)\n",
    "    #save dataframe with columns mothname, label, timestamps\n",
    "    return  pd.DataFrame([[path[-13:-4],label,timestamps]],columns=['mothname','label','timestamps'])\n",
    "\n",
    "vec_load_and_find_spikes = np.vectorize(load_and_find_spikes)\n",
    "\n",
    "def load_all(directory_name):\n",
    "    #use glob.glob to recheive all txt files in label_data\n",
    "    label_data = np.array(glob.glob(f\"../{directory_name}//**/*.txt\",recursive=True))\n",
    "\n",
    "    vec_np_result = vec_load_and_find_spikes(label_data)\n",
    "\n",
    "    #for each row of vec_np_result, add it as a row to res dataframe\n",
    "    res = pd.concat(vec_np_result,axis = 0,ignore_index=True)\n",
    "    return res\n",
    "\n",
    "\n",
    "\n",
    "spike_df = load_all(\"labeled_data\")\n",
    "#pickle the dataframe (which essentially stores the timestamps data)\n",
    "spike_df.to_pickle(\"spike_df.pkl\")\n",
    "\n",
    "    "
   ]
  },
  {
   "cell_type": "markdown",
   "metadata": {},
   "source": [
    "Classification"
   ]
  },
  {
   "cell_type": "code",
   "execution_count": 97,
   "metadata": {},
   "outputs": [
    {
     "name": "stdout",
     "output_type": "stream",
     "text": [
      "hello world\n"
     ]
    }
   ],
   "source": [
    "print(\"hello world\")"
   ]
  }
 ],
 "metadata": {
  "kernelspec": {
   "display_name": "base",
   "language": "python",
   "name": "python3"
  },
  "language_info": {
   "codemirror_mode": {
    "name": "ipython",
    "version": 3
   },
   "file_extension": ".py",
   "mimetype": "text/x-python",
   "name": "python",
   "nbconvert_exporter": "python",
   "pygments_lexer": "ipython3",
   "version": "3.9.13"
  }
 },
 "nbformat": 4,
 "nbformat_minor": 2
}
